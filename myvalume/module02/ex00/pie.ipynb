{
 "cells": [
  {
   "cell_type": "code",
   "execution_count": 2,
   "id": "e056e011-2356-42e5-91a1-1b96de315718",
   "metadata": {},
   "outputs": [
    {
     "name": "stdout",
     "output_type": "stream",
     "text": [
      "[('view', 8324510), ('cart', 4841265), ('remove_from_cart', 2612475), ('purchase', 1276291)]\n"
     ]
    }
   ],
   "source": [
    "import psycopg2\n",
    "import matplotlib.pyplot as plt\n",
    "import pandas as pd\n",
    "import os\n",
    "\n",
    "# open file /run/secrets/postgres_pwd\n",
    "with open(os.getenv(\"POSTGRES_PASSWORD_FILE\"), 'r') as file:\n",
    "    password = file.read().strip()\n",
    "\n",
    "# Connect to your postgres DB\n",
    "conn = psycopg2.connect(\n",
    "    host=\"postgres\",      # or IP address\n",
    "    port=5432,             # default postgres port\n",
    "    database=os.getenv(\"POSTGRES_DB\"),\n",
    "    user=os.getenv(\"POSTGRES_USER\"),\n",
    "    password=\"mysecretpassword\"\n",
    ")\n",
    "\n",
    "# Open a cursor to perform database operations\n",
    "# cur = conn.cursor()\n",
    "\n",
    "# Example: execute a query\n",
    "# cur.execute(\"SELECT version();\")\n",
    "\n",
    "# Fetch result\n",
    "# db_version = cur.fetchone()\n",
    "# print(f\"Database version: {db_version}\")\n",
    "\n",
    "cur = conn.cursor()\n",
    "sql = \"SELECT event_type, count(*) FROM customers GROUP BY event_type;\"\n",
    "cur.execute(sql)\n",
    "\n",
    "result = cur.fetchall()\n",
    "print(result)\n",
    "# Always close cursor and connection when done\n",
    "cur.close()\n",
    "conn.close()\n"
   ]
  },
  {
   "cell_type": "code",
   "execution_count": 3,
   "id": "b06af545-f3b2-457c-809e-1c3f709b5fe4",
   "metadata": {},
   "outputs": [
    {
     "data": {
      "text/html": [
       "<div>\n",
       "<style scoped>\n",
       "    .dataframe tbody tr th:only-of-type {\n",
       "        vertical-align: middle;\n",
       "    }\n",
       "\n",
       "    .dataframe tbody tr th {\n",
       "        vertical-align: top;\n",
       "    }\n",
       "\n",
       "    .dataframe thead th {\n",
       "        text-align: right;\n",
       "    }\n",
       "</style>\n",
       "<table border=\"1\" class=\"dataframe\">\n",
       "  <thead>\n",
       "    <tr style=\"text-align: right;\">\n",
       "      <th></th>\n",
       "      <th>amount</th>\n",
       "    </tr>\n",
       "    <tr>\n",
       "      <th>event</th>\n",
       "      <th></th>\n",
       "    </tr>\n",
       "  </thead>\n",
       "  <tbody>\n",
       "    <tr>\n",
       "      <th>view</th>\n",
       "      <td>8324510</td>\n",
       "    </tr>\n",
       "    <tr>\n",
       "      <th>cart</th>\n",
       "      <td>4841265</td>\n",
       "    </tr>\n",
       "    <tr>\n",
       "      <th>remove_from_cart</th>\n",
       "      <td>2612475</td>\n",
       "    </tr>\n",
       "    <tr>\n",
       "      <th>purchase</th>\n",
       "      <td>1276291</td>\n",
       "    </tr>\n",
       "  </tbody>\n",
       "</table>\n",
       "</div>"
      ],
      "text/plain": [
       "                   amount\n",
       "event                    \n",
       "view              8324510\n",
       "cart              4841265\n",
       "remove_from_cart  2612475\n",
       "purchase          1276291"
      ]
     },
     "execution_count": 3,
     "metadata": {},
     "output_type": "execute_result"
    }
   ],
   "source": [
    "df = pd.DataFrame(result, columns=['event', 'amount']).set_index('event')\n",
    "df"
   ]
  },
  {
   "cell_type": "code",
   "execution_count": 4,
   "id": "51f4a080",
   "metadata": {},
   "outputs": [
    {
     "data": {
      "text/html": [
       "<div>\n",
       "<style scoped>\n",
       "    .dataframe tbody tr th:only-of-type {\n",
       "        vertical-align: middle;\n",
       "    }\n",
       "\n",
       "    .dataframe tbody tr th {\n",
       "        vertical-align: top;\n",
       "    }\n",
       "\n",
       "    .dataframe thead th {\n",
       "        text-align: right;\n",
       "    }\n",
       "</style>\n",
       "<table border=\"1\" class=\"dataframe\">\n",
       "  <thead>\n",
       "    <tr style=\"text-align: right;\">\n",
       "      <th></th>\n",
       "      <th>amount</th>\n",
       "    </tr>\n",
       "  </thead>\n",
       "  <tbody>\n",
       "    <tr>\n",
       "      <th>count</th>\n",
       "      <td>4.000000e+00</td>\n",
       "    </tr>\n",
       "    <tr>\n",
       "      <th>mean</th>\n",
       "      <td>4.263635e+06</td>\n",
       "    </tr>\n",
       "    <tr>\n",
       "      <th>std</th>\n",
       "      <td>3.080850e+06</td>\n",
       "    </tr>\n",
       "    <tr>\n",
       "      <th>min</th>\n",
       "      <td>1.276291e+06</td>\n",
       "    </tr>\n",
       "    <tr>\n",
       "      <th>25%</th>\n",
       "      <td>2.278429e+06</td>\n",
       "    </tr>\n",
       "    <tr>\n",
       "      <th>50%</th>\n",
       "      <td>3.726870e+06</td>\n",
       "    </tr>\n",
       "    <tr>\n",
       "      <th>75%</th>\n",
       "      <td>5.712076e+06</td>\n",
       "    </tr>\n",
       "    <tr>\n",
       "      <th>max</th>\n",
       "      <td>8.324510e+06</td>\n",
       "    </tr>\n",
       "  </tbody>\n",
       "</table>\n",
       "</div>"
      ],
      "text/plain": [
       "             amount\n",
       "count  4.000000e+00\n",
       "mean   4.263635e+06\n",
       "std    3.080850e+06\n",
       "min    1.276291e+06\n",
       "25%    2.278429e+06\n",
       "50%    3.726870e+06\n",
       "75%    5.712076e+06\n",
       "max    8.324510e+06"
      ]
     },
     "execution_count": 4,
     "metadata": {},
     "output_type": "execute_result"
    }
   ],
   "source": [
    "df.describe()"
   ]
  },
  {
   "cell_type": "code",
   "execution_count": 5,
   "id": "1a4edc3d",
   "metadata": {},
   "outputs": [
    {
     "data": {
      "text/plain": [
       "([<matplotlib.patches.Wedge at 0x7f02e4fd9940>,\n",
       "  <matplotlib.patches.Wedge at 0x7f02e50d4ac0>,\n",
       "  <matplotlib.patches.Wedge at 0x7f02e4ff8550>,\n",
       "  <matplotlib.patches.Wedge at 0x7f02e4ff8be0>],\n",
       " [Text(0.041075595605711133, 1.0992328213102247, 'view'),\n",
       "  Text(-0.7527705033478365, -0.8020826449247267, 'cart'),\n",
       "  Text(0.6385557360585555, -0.8956821824434806, 'remove_from_cart'),\n",
       "  Text(1.0697394000849663, -0.256237420970975, 'purchase')],\n",
       " [Text(0.02240487033038789, 0.5995815388964861, '48.8%'),\n",
       "  Text(-0.4106020927351835, -0.43749962450439633, '28.4%'),\n",
       "  Text(0.34830312875921204, -0.4885539176964439, '15.3%'),\n",
       "  Text(0.5834942182281634, -0.13976586598416815, '7.5%')])"
      ]
     },
     "execution_count": 5,
     "metadata": {},
     "output_type": "execute_result"
    },
    {
     "data": {
      "image/png": "[encoded data removed]",
      "text/plain": [
       "<Figure size 640x480 with 1 Axes>"
      ]
     },
     "metadata": {},
     "output_type": "display_data"
    }
   ],
   "source": [
    "labels = df.index\n",
    "sizes = df['amount']\n",
    "\n",
    "fig, ax = plt.subplots()\n",
    "ax.pie(sizes, labels=labels, autopct='%1.1f%%')"
   ]
  },
  {
   "cell_type": "code",
   "execution_count": null,
   "id": "062acb94",
   "metadata": {},
   "outputs": [],
   "source": []
  }
 ],
 "metadata": {
  "kernelspec": {
   "display_name": "Python 3",
   "language": "python",
   "name": "python3"
  },
  "language_info": {
   "codemirror_mode": {
    "name": "ipython",
    "version": 3
   },
   "file_extension": ".py",
   "mimetype": "text/x-python",
   "name": "python",
   "nbconvert_exporter": "python",
   "pygments_lexer": "ipython3",
   "version": "3.9.22"
  }
 },
 "nbformat": 4,
 "nbformat_minor": 5
}
