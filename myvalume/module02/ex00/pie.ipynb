{
 "cells": [
  {
   "cell_type": "code",
   "execution_count": null,
   "id": "c5dcfda8-39c2-43e7-b166-65638a1c8b72",
   "metadata": {},
   "outputs": [],
   "source": []
  },
  {
   "cell_type": "code",
   "execution_count": 31,
   "id": "e056e011-2356-42e5-91a1-1b96de315718",
   "metadata": {},
   "outputs": [
    {
     "name": "stdout",
     "output_type": "stream",
     "text": [
      "[('view', 9657821), ('cart', 5768333), ('remove_from_cart', 3979679), ('purchase', 1287007)]\n"
     ]
    }
   ],
   "source": [
    "import psycopg2\n",
    "import matplotlib.pyplot as plt\n",
    "import pandas as pd\n",
    "\n",
    "# Connect to your postgres DB\n",
    "conn = psycopg2.connect(\n",
    "    host=\"postgres\",      # or IP address\n",
    "    port=5432,             # default postgres port\n",
    "    database=\"piscineds\",\n",
    "    user=\"pnamnil\",\n",
    "    password=\"mysecretpassword\"\n",
    ")\n",
    "\n",
    "# Open a cursor to perform database operations\n",
    "# cur = conn.cursor()\n",
    "\n",
    "# Example: execute a query\n",
    "# cur.execute(\"SELECT version();\")\n",
    "\n",
    "# Fetch result\n",
    "# db_version = cur.fetchone()\n",
    "# print(f\"Database version: {db_version}\")\n",
    "\n",
    "cur = conn.cursor()\n",
    "sql = \"SELECT event_type, count(*) FROM customers GROUP BY event_type;\"\n",
    "cur.execute(sql)\n",
    "\n",
    "result = cur.fetchall()\n",
    "print(result)\n",
    "# Always close cursor and connection when done\n",
    "cur.close()\n",
    "conn.close()\n"
   ]
  },
  {
   "cell_type": "code",
   "execution_count": 32,
   "id": "b06af545-f3b2-457c-809e-1c3f709b5fe4",
   "metadata": {},
   "outputs": [
    {
     "data": {
      "text/html": [
       "<div>\n",
       "<style scoped>\n",
       "    .dataframe tbody tr th:only-of-type {\n",
       "        vertical-align: middle;\n",
       "    }\n",
       "\n",
       "    .dataframe tbody tr th {\n",
       "        vertical-align: top;\n",
       "    }\n",
       "\n",
       "    .dataframe thead th {\n",
       "        text-align: right;\n",
       "    }\n",
       "</style>\n",
       "<table border=\"1\" class=\"dataframe\">\n",
       "  <thead>\n",
       "    <tr style=\"text-align: right;\">\n",
       "      <th></th>\n",
       "      <th>amount</th>\n",
       "    </tr>\n",
       "    <tr>\n",
       "      <th>event</th>\n",
       "      <th></th>\n",
       "    </tr>\n",
       "  </thead>\n",
       "  <tbody>\n",
       "    <tr>\n",
       "      <th>view</th>\n",
       "      <td>9657821</td>\n",
       "    </tr>\n",
       "    <tr>\n",
       "      <th>cart</th>\n",
       "      <td>5768333</td>\n",
       "    </tr>\n",
       "    <tr>\n",
       "      <th>remove_from_cart</th>\n",
       "      <td>3979679</td>\n",
       "    </tr>\n",
       "    <tr>\n",
       "      <th>purchase</th>\n",
       "      <td>1287007</td>\n",
       "    </tr>\n",
       "  </tbody>\n",
       "</table>\n",
       "</div>"
      ],
      "text/plain": [
       "                   amount\n",
       "event                    \n",
       "view              9657821\n",
       "cart              5768333\n",
       "remove_from_cart  3979679\n",
       "purchase          1287007"
      ]
     },
     "execution_count": 32,
     "metadata": {},
     "output_type": "execute_result"
    }
   ],
   "source": [
    "df = pd.DataFrame(result, columns=['event', 'amount']).set_index('event')\n",
    "df"
   ]
  },
  {
   "cell_type": "code",
   "execution_count": 33,
   "id": "51f4a080",
   "metadata": {},
   "outputs": [
    {
     "data": {
      "text/html": [
       "<div>\n",
       "<style scoped>\n",
       "    .dataframe tbody tr th:only-of-type {\n",
       "        vertical-align: middle;\n",
       "    }\n",
       "\n",
       "    .dataframe tbody tr th {\n",
       "        vertical-align: top;\n",
       "    }\n",
       "\n",
       "    .dataframe thead th {\n",
       "        text-align: right;\n",
       "    }\n",
       "</style>\n",
       "<table border=\"1\" class=\"dataframe\">\n",
       "  <thead>\n",
       "    <tr style=\"text-align: right;\">\n",
       "      <th></th>\n",
       "      <th>amount</th>\n",
       "    </tr>\n",
       "  </thead>\n",
       "  <tbody>\n",
       "    <tr>\n",
       "      <th>count</th>\n",
       "      <td>4.000000e+00</td>\n",
       "    </tr>\n",
       "    <tr>\n",
       "      <th>mean</th>\n",
       "      <td>5.173210e+06</td>\n",
       "    </tr>\n",
       "    <tr>\n",
       "      <th>std</th>\n",
       "      <td>3.511552e+06</td>\n",
       "    </tr>\n",
       "    <tr>\n",
       "      <th>min</th>\n",
       "      <td>1.287007e+06</td>\n",
       "    </tr>\n",
       "    <tr>\n",
       "      <th>25%</th>\n",
       "      <td>3.306511e+06</td>\n",
       "    </tr>\n",
       "    <tr>\n",
       "      <th>50%</th>\n",
       "      <td>4.874006e+06</td>\n",
       "    </tr>\n",
       "    <tr>\n",
       "      <th>75%</th>\n",
       "      <td>6.740705e+06</td>\n",
       "    </tr>\n",
       "    <tr>\n",
       "      <th>max</th>\n",
       "      <td>9.657821e+06</td>\n",
       "    </tr>\n",
       "  </tbody>\n",
       "</table>\n",
       "</div>"
      ],
      "text/plain": [
       "             amount\n",
       "count  4.000000e+00\n",
       "mean   5.173210e+06\n",
       "std    3.511552e+06\n",
       "min    1.287007e+06\n",
       "25%    3.306511e+06\n",
       "50%    4.874006e+06\n",
       "75%    6.740705e+06\n",
       "max    9.657821e+06"
      ]
     },
     "execution_count": 33,
     "metadata": {},
     "output_type": "execute_result"
    }
   ],
   "source": [
    "df.describe()"
   ]
  },
  {
   "cell_type": "code",
   "execution_count": 34,
   "id": "1a4edc3d",
   "metadata": {},
   "outputs": [
    {
     "data": {
      "text/plain": [
       "([<matplotlib.patches.Wedge at 0xffff85c15df0>,\n",
       "  <matplotlib.patches.Wedge at 0xffff85c68160>,\n",
       "  <matplotlib.patches.Wedge at 0xffff85c22b50>,\n",
       "  <matplotlib.patches.Wedge at 0xffff85bb0220>],\n",
       " [Text(0.1147881231868744, 1.0939943723690881, 'view'),\n",
       "  Text(-0.8644781437618375, -0.6802040421506534, 'cart'),\n",
       "  Text(0.5989684034546473, -0.9226249788852408, 'remove_from_cart'),\n",
       "  Text(1.0790684033082047, -0.21356821154348232, 'purchase')],\n",
       " [Text(0.06261170355647694, 0.5967242031104116, '46.7%'),\n",
       "  Text(-0.4715335329610022, -0.37102038662762915, '27.9%'),\n",
       "  Text(0.32671003824798944, -0.5032499884828585, '19.2%'),\n",
       "  Text(0.5885827654408389, -0.11649175175099033, '6.2%')])"
      ]
     },
     "execution_count": 34,
     "metadata": {},
     "output_type": "execute_result"
    },
    {
     "data": {
      "image/png": "[encoded data removed]",
      "text/plain": [
       "<Figure size 640x480 with 1 Axes>"
      ]
     },
     "metadata": {},
     "output_type": "display_data"
    }
   ],
   "source": [
    "labels = df.index\n",
    "sizes = df['amount']\n",
    "\n",
    "fig, ax = plt.subplots()\n",
    "ax.pie(sizes, labels=labels, autopct='%1.1f%%')"
   ]
  },
  {
   "cell_type": "code",
   "execution_count": null,
   "id": "062acb94",
   "metadata": {},
   "outputs": [],
   "source": []
  }
 ],
 "metadata": {
  "kernelspec": {
   "display_name": "Python 3",
   "language": "python",
   "name": "python3"
  },
  "language_info": {
   "codemirror_mode": {
    "name": "ipython",
    "version": 3
   },
   "file_extension": ".py",
   "mimetype": "text/x-python",
   "name": "python",
   "nbconvert_exporter": "python",
   "pygments_lexer": "ipython3",
   "version": "3.9.22"
  }
 },
 "nbformat": 4,
 "nbformat_minor": 5
}
