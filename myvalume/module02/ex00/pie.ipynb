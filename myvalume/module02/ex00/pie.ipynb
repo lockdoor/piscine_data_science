{
 "cells": [
  {
   "cell_type": "code",
   "execution_count": 1,
   "id": "e056e011-2356-42e5-91a1-1b96de315718",
   "metadata": {},
   "outputs": [
    {
     "name": "stdout",
     "output_type": "stream",
     "text": [
      "Database version: ('PostgreSQL 16.8 on x86_64-pc-linux-musl, compiled by gcc (Alpine 13.2.1_git20240309) 13.2.1 20240309, 64-bit',)\n"
     ]
    }
   ],
   "source": [
    "import psycopg2\n",
    "\n",
    "# Connect to your postgres DB\n",
    "conn = psycopg2.connect(\n",
    "    host=\"postgres\",      # or IP address\n",
    "    port=5432,             # default postgres port\n",
    "    database=\"piscineds\",\n",
    "    user=\"pnamnil\",\n",
    "    password=\"mysecretpassword\"\n",
    ")\n",
    "\n",
    "# Open a cursor to perform database operations\n",
    "cur = conn.cursor()\n",
    "\n",
    "# Example: execute a query\n",
    "cur.execute(\"SELECT version();\")\n",
    "\n",
    "# Fetch result\n",
    "db_version = cur.fetchone()\n",
    "print(f\"Database version: {db_version}\")\n",
    "\n",
    "\n"
   ]
  },
  {
   "cell_type": "code",
   "execution_count": 2,
   "id": "22ed9129-50d2-4390-b400-5af31be995f7",
   "metadata": {},
   "outputs": [],
   "source": [
    "# Always close cursor and connection when done\n",
    "cur.close()\n",
    "conn.close()"
   ]
  }
 ],
 "metadata": {
  "kernelspec": {
   "display_name": "Python 3 (ipykernel)",
   "language": "python",
   "name": "python3"
  },
  "language_info": {
   "codemirror_mode": {
    "name": "ipython",
    "version": 3
   },
   "file_extension": ".py",
   "mimetype": "text/x-python",
   "name": "python",
   "nbconvert_exporter": "python",
   "pygments_lexer": "ipython3",
   "version": "3.9.22"
  }
 },
 "nbformat": 4,
 "nbformat_minor": 5
}
