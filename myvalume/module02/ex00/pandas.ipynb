{
 "cells": [
  {
   "cell_type": "code",
   "execution_count": 33,
   "id": "09bb815a-8161-4b3c-86b5-29d045631147",
   "metadata": {},
   "outputs": [],
   "source": [
    "import pandas as pd\n",
    "import numpy as np"
   ]
  },
  {
   "cell_type": "code",
   "execution_count": 34,
   "id": "57bcd2ef-c0b5-46cf-9407-87daaea49248",
   "metadata": {},
   "outputs": [],
   "source": [
    "g7_pop = pd.Series([11.45322, 15.45223, 56.32489, 71.23, 45.93, 94.289])"
   ]
  },
  {
   "cell_type": "code",
   "execution_count": 35,
   "id": "0ee8bf7a-8b2f-445c-a25b-a0e0566ba759",
   "metadata": {},
   "outputs": [
    {
     "data": {
      "text/plain": [
       "0    11.45322\n",
       "1    15.45223\n",
       "2    56.32489\n",
       "3    71.23000\n",
       "4    45.93000\n",
       "5    94.28900\n",
       "dtype: float64"
      ]
     },
     "execution_count": 35,
     "metadata": {},
     "output_type": "execute_result"
    }
   ],
   "source": [
    "g7_pop"
   ]
  },
  {
   "cell_type": "markdown",
   "id": "76acaeb6-639b-41a6-890c-b7dbab444ff4",
   "metadata": {},
   "source": [
    "If pandas has no name"
   ]
  },
  {
   "cell_type": "code",
   "execution_count": 36,
   "id": "5ea7150c-950f-481e-aa8e-beeb2c63cfaa",
   "metadata": {},
   "outputs": [],
   "source": [
    "g7_pop.name = 'G7 population in millions'"
   ]
  },
  {
   "cell_type": "code",
   "execution_count": 37,
   "id": "6b86124f-855a-4ffa-a53b-3b8147da4613",
   "metadata": {},
   "outputs": [
    {
     "data": {
      "text/plain": [
       "0    11.45322\n",
       "1    15.45223\n",
       "2    56.32489\n",
       "3    71.23000\n",
       "4    45.93000\n",
       "5    94.28900\n",
       "Name: G7 population in millions, dtype: float64"
      ]
     },
     "execution_count": 37,
     "metadata": {},
     "output_type": "execute_result"
    }
   ],
   "source": [
    "g7_pop"
   ]
  },
  {
   "cell_type": "markdown",
   "id": "1af29c9e-7f4d-4edc-8342-d55a1170bb48",
   "metadata": {},
   "source": [
    "Pandas with name"
   ]
  },
  {
   "cell_type": "code",
   "execution_count": 38,
   "id": "c7ebd12d-a538-438a-a68f-26804171f1a8",
   "metadata": {},
   "outputs": [
    {
     "data": {
      "text/plain": [
       "dtype('float64')"
      ]
     },
     "execution_count": 38,
     "metadata": {},
     "output_type": "execute_result"
    }
   ],
   "source": [
    "g7_pop.dtypes"
   ]
  },
  {
   "cell_type": "code",
   "execution_count": 39,
   "id": "545620a1-b8b2-409e-91db-f6365a352d21",
   "metadata": {},
   "outputs": [
    {
     "data": {
      "text/plain": [
       "array([11.45322, 15.45223, 56.32489, 71.23   , 45.93   , 94.289  ])"
      ]
     },
     "execution_count": 39,
     "metadata": {},
     "output_type": "execute_result"
    }
   ],
   "source": [
    "g7_pop.values"
   ]
  },
  {
   "cell_type": "code",
   "execution_count": 40,
   "id": "ab09142c",
   "metadata": {},
   "outputs": [
    {
     "data": {
      "text/plain": [
       "numpy.ndarray"
      ]
     },
     "execution_count": 40,
     "metadata": {},
     "output_type": "execute_result"
    }
   ],
   "source": [
    "type(g7_pop.values)"
   ]
  },
  {
   "cell_type": "code",
   "execution_count": 41,
   "id": "1e091c16",
   "metadata": {},
   "outputs": [
    {
     "data": {
      "text/plain": [
       "np.float64(11.45322)"
      ]
     },
     "execution_count": 41,
     "metadata": {},
     "output_type": "execute_result"
    }
   ],
   "source": [
    "g7_pop[0]"
   ]
  },
  {
   "cell_type": "code",
   "execution_count": 42,
   "id": "094be830",
   "metadata": {},
   "outputs": [
    {
     "data": {
      "text/plain": [
       "np.float64(15.45223)"
      ]
     },
     "execution_count": 42,
     "metadata": {},
     "output_type": "execute_result"
    }
   ],
   "source": [
    "g7_pop[1]"
   ]
  },
  {
   "cell_type": "code",
   "execution_count": 43,
   "id": "de6904ad",
   "metadata": {},
   "outputs": [
    {
     "data": {
      "text/plain": [
       "RangeIndex(start=0, stop=6, step=1)"
      ]
     },
     "execution_count": 43,
     "metadata": {},
     "output_type": "execute_result"
    }
   ],
   "source": [
    "g7_pop.index"
   ]
  },
  {
   "cell_type": "code",
   "execution_count": 44,
   "id": "1ec1949f",
   "metadata": {},
   "outputs": [],
   "source": [
    "g7_pop.index = ['Canada', 'France', 'Germany', 'Italy', 'Japan', 'United Kingdom']"
   ]
  },
  {
   "cell_type": "code",
   "execution_count": 45,
   "id": "f1d6372e",
   "metadata": {},
   "outputs": [
    {
     "data": {
      "text/plain": [
       "Canada            11.45322\n",
       "France            15.45223\n",
       "Germany           56.32489\n",
       "Italy             71.23000\n",
       "Japan             45.93000\n",
       "United Kingdom    94.28900\n",
       "Name: G7 population in millions, dtype: float64"
      ]
     },
     "execution_count": 45,
     "metadata": {},
     "output_type": "execute_result"
    }
   ],
   "source": [
    "g7_pop"
   ]
  },
  {
   "cell_type": "markdown",
   "id": "c96bd3ef",
   "metadata": {},
   "source": [
    "The index change from number to name string"
   ]
  },
  {
   "cell_type": "code",
   "execution_count": 46,
   "id": "55347dc7",
   "metadata": {},
   "outputs": [
    {
     "data": {
      "text/plain": [
       "{'Canada': 11.45322,\n",
       " 'France': 15.45223,\n",
       " 'Germany': 56.32489,\n",
       " 'Italy': 71.23,\n",
       " 'Japan': 45.93,\n",
       " 'United Kingdom': 94.289}"
      ]
     },
     "execution_count": 46,
     "metadata": {},
     "output_type": "execute_result"
    }
   ],
   "source": [
    "g7_dict = g7_pop.to_dict()\n",
    "g7_dict"
   ]
  },
  {
   "cell_type": "code",
   "execution_count": 47,
   "id": "9f9513b7",
   "metadata": {},
   "outputs": [
    {
     "data": {
      "text/plain": [
       "Canada            11.45322\n",
       "France            15.45223\n",
       "Germany           56.32489\n",
       "Italy             71.23000\n",
       "Japan             45.93000\n",
       "United Kingdom    94.28900\n",
       "Name: G7 population in millions, dtype: float64"
      ]
     },
     "execution_count": 47,
     "metadata": {},
     "output_type": "execute_result"
    }
   ],
   "source": [
    "g7_pop_from_dict = pd.Series(g7_dict, name='G7 population in millions')\n",
    "g7_pop_from_dict"
   ]
  },
  {
   "cell_type": "markdown",
   "id": "ba941661",
   "metadata": {},
   "source": [
    "# Indexing"
   ]
  },
  {
   "cell_type": "code",
   "execution_count": 48,
   "id": "6b409dd4",
   "metadata": {},
   "outputs": [
    {
     "data": {
      "text/plain": [
       "np.float64(11.45322)"
      ]
     },
     "execution_count": 48,
     "metadata": {},
     "output_type": "execute_result"
    }
   ],
   "source": [
    "g7_pop['Canada']"
   ]
  },
  {
   "cell_type": "code",
   "execution_count": 49,
   "id": "02788d45",
   "metadata": {},
   "outputs": [
    {
     "data": {
      "text/plain": [
       "Canada            38.09800\n",
       "France            15.45223\n",
       "Germany           56.32489\n",
       "Italy             71.23000\n",
       "Japan             45.93000\n",
       "United Kingdom    94.28900\n",
       "Name: G7 population in millions, dtype: float64"
      ]
     },
     "execution_count": 49,
     "metadata": {},
     "output_type": "execute_result"
    }
   ],
   "source": [
    "g7_pop['Canada'] = 38.098\n",
    "g7_pop"
   ]
  },
  {
   "cell_type": "code",
   "execution_count": 51,
   "id": "4419285d",
   "metadata": {},
   "outputs": [
    {
     "data": {
      "text/plain": [
       "Canada    38.09800\n",
       "France    15.45223\n",
       "Name: G7 population in millions, dtype: float64"
      ]
     },
     "execution_count": 51,
     "metadata": {},
     "output_type": "execute_result"
    }
   ],
   "source": [
    "g7_pop[['Canada', 'France']]"
   ]
  },
  {
   "cell_type": "markdown",
   "id": "b93ba530",
   "metadata": {},
   "source": [
    "# Boolean"
   ]
  },
  {
   "cell_type": "code",
   "execution_count": 52,
   "id": "5ab8efec",
   "metadata": {},
   "outputs": [
    {
     "data": {
      "text/plain": [
       "Canada            False\n",
       "France            False\n",
       "Germany            True\n",
       "Italy              True\n",
       "Japan             False\n",
       "United Kingdom     True\n",
       "Name: G7 population in millions, dtype: bool"
      ]
     },
     "execution_count": 52,
     "metadata": {},
     "output_type": "execute_result"
    }
   ],
   "source": [
    "g7_pop > 50"
   ]
  },
  {
   "cell_type": "code",
   "execution_count": 53,
   "id": "51dcb8cf",
   "metadata": {},
   "outputs": [
    {
     "data": {
      "text/plain": [
       "Germany           56.32489\n",
       "Italy             71.23000\n",
       "United Kingdom    94.28900\n",
       "Name: G7 population in millions, dtype: float64"
      ]
     },
     "execution_count": 53,
     "metadata": {},
     "output_type": "execute_result"
    }
   ],
   "source": [
    "g7_pop[g7_pop > 50]"
   ]
  },
  {
   "cell_type": "code",
   "execution_count": 54,
   "id": "7927b43b",
   "metadata": {},
   "outputs": [
    {
     "data": {
      "text/plain": [
       "np.float64(53.55402)"
      ]
     },
     "execution_count": 54,
     "metadata": {},
     "output_type": "execute_result"
    }
   ],
   "source": [
    "g7_pop.mean()"
   ]
  },
  {
   "cell_type": "code",
   "execution_count": 55,
   "id": "aa82c0c2",
   "metadata": {},
   "outputs": [
    {
     "data": {
      "text/plain": [
       "np.float64(27.30647257161789)"
      ]
     },
     "execution_count": 55,
     "metadata": {},
     "output_type": "execute_result"
    }
   ],
   "source": [
    "g7_pop.std()"
   ]
  },
  {
   "cell_type": "code",
   "execution_count": null,
   "id": "c71bfb22",
   "metadata": {},
   "outputs": [],
   "source": []
  }
 ],
 "metadata": {
  "kernelspec": {
   "display_name": "Python 3",
   "language": "python",
   "name": "python3"
  },
  "language_info": {
   "codemirror_mode": {
    "name": "ipython",
    "version": 3
   },
   "file_extension": ".py",
   "mimetype": "text/x-python",
   "name": "python",
   "nbconvert_exporter": "python",
   "pygments_lexer": "ipython3",
   "version": "3.9.22"
  }
 },
 "nbformat": 4,
 "nbformat_minor": 5
}
