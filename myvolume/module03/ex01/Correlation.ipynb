{
 "cells": [
  {
   "cell_type": "code",
   "execution_count": 1,
   "id": "527d7c30",
   "metadata": {},
   "outputs": [],
   "source": [
    "import pandas as pd"
   ]
  },
  {
   "cell_type": "code",
   "execution_count": 32,
   "id": "7be01ebc",
   "metadata": {},
   "outputs": [],
   "source": [
    "df = pd.read_csv('/myvolume/subject/data/Train_knight.csv')"
   ]
  },
  {
   "cell_type": "code",
   "execution_count": 34,
   "id": "c7d98089",
   "metadata": {},
   "outputs": [],
   "source": [
    "df['knight_1'] = df['knight'].map({'Sith': 0, 'Jedi': 1})\n",
    "\n",
    "# drop knight column\n",
    "df = df.drop(columns=['knight'])\n",
    "\n",
    "# change column name kinght_1 to knight\n",
    "df = df.rename(columns={'knight_1': 'knight'})"
   ]
  },
  {
   "cell_type": "code",
   "execution_count": null,
   "id": "b25c7bfe",
   "metadata": {},
   "outputs": [
    {
     "data": {
      "text/plain": [
       "knight           1.000000\n",
       "Empowered        0.793652\n",
       "Prescience       0.790066\n",
       "Stims            0.786797\n",
       "Recovery         0.777633\n",
       "Sprint           0.739672\n",
       "Strength         0.737403\n",
       "Sensitivity      0.721566\n",
       "Power            0.700709\n",
       "Awareness        0.699662\n",
       "Attunement       0.648893\n",
       "Dexterity        0.631987\n",
       "Delay            0.598072\n",
       "Slash            0.550663\n",
       "Pull             0.537800\n",
       "Lightsaber       0.515340\n",
       "Evade            0.465605\n",
       "Hability         0.446632\n",
       "Burst            0.445847\n",
       "Combo            0.445223\n",
       "Blocking         0.421950\n",
       "Agility          0.397458\n",
       "Reactivity       0.375103\n",
       "Grasping         0.350105\n",
       "Repulse          0.324399\n",
       "Friendship       0.236633\n",
       "Mass             0.113185\n",
       "Survival        -0.043099\n",
       "Deflection      -0.026489\n",
       "Push            -0.019446\n",
       "Midi-chlorien    0.008132\n",
       "Name: knight, dtype: float64"
      ]
     },
     "execution_count": 35,
     "metadata": {},
     "output_type": "execute_result"
    }
   ],
   "source": [
    "\n",
    "correlations = df.corr()['knight'].sort_values(key=abs, ascending=False)\n",
    "correlations\n"
   ]
  }
 ],
 "metadata": {
  "kernelspec": {
   "display_name": "Python 3 (ipykernel)",
   "language": "python",
   "name": "python3"
  }
 },
 "nbformat": 4,
 "nbformat_minor": 5
}
