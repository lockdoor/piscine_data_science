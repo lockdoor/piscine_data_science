{
 "cells": [
  {
   "cell_type": "markdown",
   "id": "30737208",
   "metadata": {},
   "source": [
    "[Implementation of Voting Classifiers in Scikit-learn and Python - Ensemble Machine Learning Tutorial](https://www.youtube.com/watch?v=ngST76LTQf0)"
   ]
  },
  {
   "cell_type": "code",
   "execution_count": 1,
   "id": "94971130",
   "metadata": {},
   "outputs": [],
   "source": [
    "import pandas as pd\n",
    "import numpy as np\n",
    "from sklearn.model_selection import train_test_split\n",
    "\n",
    "# models classification\n",
    "from sklearn.tree import DecisionTreeClassifier\n",
    "from sklearn.linear_model import LogisticRegression\n",
    "from sklearn.neighbors import KNeighborsClassifier\n",
    "from sklearn.ensemble import VotingClassifier\n",
    "\n",
    "# scaling\n",
    "from sklearn.preprocessing import StandardScaler\n",
    "\n",
    "# metrics\n",
    "from sklearn import metrics"
   ]
  },
  {
   "cell_type": "markdown",
   "id": "7cb89c70",
   "metadata": {},
   "source": [
    "## import dataset"
   ]
  },
  {
   "cell_type": "code",
   "execution_count": 2,
   "id": "03199c22",
   "metadata": {},
   "outputs": [
    {
     "data": {
      "text/plain": [
       "((398, 31), (171, 30))"
      ]
     },
     "execution_count": 2,
     "metadata": {},
     "output_type": "execute_result"
    }
   ],
   "source": [
    "train_knight_url = \"../../subject/data04/Train_knight.csv\"\n",
    "test_knight_url = \"../../subject/data04/Test_knight.csv\"\n",
    "\n",
    "train_knight_df = pd.read_csv(train_knight_url)\n",
    "test_knight_df = pd.read_csv(test_knight_url)\n",
    "\n",
    "train_knight_df.shape, test_knight_df.shape"
   ]
  },
  {
   "cell_type": "markdown",
   "id": "5343d559",
   "metadata": {},
   "source": [
    "## split to train and test"
   ]
  },
  {
   "cell_type": "code",
   "execution_count": 3,
   "id": "b5bd7e4d",
   "metadata": {},
   "outputs": [
    {
     "name": "stdout",
     "output_type": "stream",
     "text": [
      "X_train shape: (278, 30)\n",
      "X_test shape: (120, 30)\n",
      "y_train shape: (278,)\n",
      "y_test shape: (120,)\n"
     ]
    }
   ],
   "source": [
    "X = train_knight_df.drop(columns=[\"knight\"])\n",
    "y = train_knight_df[\"knight\"]\n",
    "test_size = 0.3\n",
    "X_train, X_test, y_train, y_test = train_test_split(\n",
    "    X, y, test_size=test_size, random_state=42, stratify=y)\n",
    "print(f'X_train shape: {X_train.shape}')\n",
    "print(f'X_test shape: {X_test.shape}')\n",
    "print(f'y_train shape: {y_train.shape}')\n",
    "print(f'y_test shape: {y_test.shape}')"
   ]
  },
  {
   "cell_type": "markdown",
   "id": "c441f1eb",
   "metadata": {},
   "source": [
    "## Scale to standard"
   ]
  },
  {
   "cell_type": "code",
   "execution_count": 4,
   "id": "fe588791",
   "metadata": {},
   "outputs": [
    {
     "data": {
      "text/plain": [
       "((278, 30), (120, 30))"
      ]
     },
     "execution_count": 4,
     "metadata": {},
     "output_type": "execute_result"
    }
   ],
   "source": [
    "scaler = StandardScaler()\n",
    "# fit_transform performs both fit and transform at the same time\n",
    "X_train_scaled = scaler.fit_transform(X_train)\n",
    "# here we only transform the test set\n",
    "X_test_scaled = scaler.transform(X_test)\n",
    "\n",
    "X_train_scaled.shape, X_test_scaled.shape"
   ]
  },
  {
   "cell_type": "code",
   "execution_count": 5,
   "id": "b83c9003",
   "metadata": {},
   "outputs": [
    {
     "data": {
      "text/plain": [
       "array([[ 2.24739539e-02,  1.97890769e+00,  2.12920113e-02, ...,\n",
       "        -1.34505617e-01, -1.06911587e+00,  2.12273207e-03],\n",
       "       [-1.96971529e-01,  6.35285243e-01, -2.40155079e-01, ...,\n",
       "        -8.85939520e-01, -4.16187050e-01, -9.68568420e-01],\n",
       "       [ 6.95440100e-01,  1.04944843e+00,  7.71568514e-01, ...,\n",
       "         1.71859895e+00,  3.27362002e+00,  7.56845317e-01],\n",
       "       ...,\n",
       "       [ 1.95066826e+00, -3.80859328e-01,  1.87015726e+00, ...,\n",
       "         1.50858043e+00, -3.28455012e-01, -7.36839985e-01],\n",
       "       [ 1.62919063e-01, -1.19233023e+00,  1.26892790e-01, ...,\n",
       "        -1.02076288e-01, -4.68488842e-01, -2.96147369e-01],\n",
       "       [ 9.64626559e-01,  1.56233657e+00,  9.16343776e-01, ...,\n",
       "         9.32573763e-01, -6.47327228e-01, -2.17931726e-01]],\n",
       "      shape=(278, 30))"
      ]
     },
     "execution_count": 5,
     "metadata": {},
     "output_type": "execute_result"
    }
   ],
   "source": [
    "X_train_scaled"
   ]
  },
  {
   "cell_type": "code",
   "execution_count": 6,
   "id": "5bef2edd",
   "metadata": {},
   "outputs": [
    {
     "data": {
      "text/plain": [
       "array([[-0.48663957, -0.58071715, -0.49776988, ..., -0.41555981,\n",
       "        -0.44824299, -0.41347083],\n",
       "       [ 2.08233555,  1.83924801,  2.20654684, ...,  2.73008519,\n",
       "         2.0487458 ,  2.63985774],\n",
       "       [-0.72656663, -1.04544677, -0.71919087, ..., -0.6053486 ,\n",
       "         0.09670794,  0.50352003],\n",
       "       ...,\n",
       "       [ 1.20162768,  0.70029923,  1.12924857, ..., -0.33510419,\n",
       "        -0.86834448, -1.0269383 ],\n",
       "       [-0.0038595 , -0.45309709,  0.02342106, ...,  0.36892112,\n",
       "         0.31097658, -0.21034364],\n",
       "       [ 1.47081414, -0.00522295,  1.38473433, ...,  0.12801753,\n",
       "        -0.07200751, -1.03686118]], shape=(120, 30))"
      ]
     },
     "execution_count": 6,
     "metadata": {},
     "output_type": "execute_result"
    }
   ],
   "source": [
    "X_test_scaled"
   ]
  },
  {
   "cell_type": "code",
   "execution_count": 7,
   "id": "ab5e1859",
   "metadata": {},
   "outputs": [
    {
     "data": {
      "text/plain": [
       "{'Decision Tree': 0.9,\n",
       " 'Logistic Regression': 0.9833333333333333,\n",
       " 'K-Nearest Neighbors': 0.9666666666666667,\n",
       " 'Voting Classifier': 0.9833333333333333}"
      ]
     },
     "execution_count": 7,
     "metadata": {},
     "output_type": "execute_result"
    }
   ],
   "source": [
    "# All classifiers model\n",
    "clf1 = DecisionTreeClassifier(random_state=42)\n",
    "clf2 = LogisticRegression(random_state=42, max_iter=1000)\n",
    "clf3 = KNeighborsClassifier(n_neighbors=5)\n",
    "\n",
    "classifier_type_name_initial = [\n",
    "    ('Decision Tree', clf1),\n",
    "    ('Logistic Regression', clf2),\n",
    "    ('K-Nearest Neighbors', clf3)\n",
    "]\n",
    "\n",
    "# Voting Classifier is an ensemble method that combines multiple classifiers\n",
    "# to improve the overall performance and return the best prediction.\n",
    "voting_clf = VotingClassifier(\n",
    "    estimators=classifier_type_name_initial,\n",
    "    voting='hard'\n",
    ")\n",
    "\n",
    "classifier_type_name_total = classifier_type_name_initial + [('Voting Classifier', voting_clf)]\n",
    "\n",
    "classifier_scores = {}\n",
    "\n",
    "for name, clf in classifier_type_name_total:\n",
    "    clf.fit(X_train_scaled, y_train)\n",
    "    clf.predictions = clf.predict(X_test_scaled)\n",
    "    classifier_scores[name] = metrics.accuracy_score(y_test, clf.predictions)\n",
    "\n",
    "classifier_scores"
   ]
  },
  {
   "cell_type": "code",
   "execution_count": 8,
   "id": "4e4142fa",
   "metadata": {},
   "outputs": [],
   "source": [
    "# re train with voting classifier\n",
    "voting_clf.fit(X_train_scaled, y_train)\n",
    "\n",
    "test_knight_df_scaled = scaler.transform(test_knight_df)\n",
    "\n",
    "y_pred = voting_clf.predict(test_knight_df_scaled)"
   ]
  },
  {
   "cell_type": "code",
   "execution_count": 9,
   "id": "03dedb8e",
   "metadata": {},
   "outputs": [],
   "source": [
    "# --- Export to KNN.txt ---\n",
    "import os\n",
    "filename = os.path.join(os.getcwd(), 'Voting.txt')\n",
    "\n",
    "with open(filename, \"w\") as f:\n",
    "    for k in y_pred:\n",
    "        f.write(k + \"\\n\")"
   ]
  }
 ],
 "metadata": {
  "kernelspec": {
   "display_name": "ml",
   "language": "python",
   "name": "python3"
  },
  "language_info": {
   "codemirror_mode": {
    "name": "ipython",
    "version": 3
   },
   "file_extension": ".py",
   "mimetype": "text/x-python",
   "name": "python",
   "nbconvert_exporter": "python",
   "pygments_lexer": "ipython3",
   "version": "3.13.2"
  }
 },
 "nbformat": 4,
 "nbformat_minor": 5
}
