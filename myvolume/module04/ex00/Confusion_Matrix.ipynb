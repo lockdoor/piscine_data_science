{
 "cells": [
  {
   "cell_type": "code",
   "execution_count": 1,
   "id": "05e7484c",
   "metadata": {},
   "outputs": [],
   "source": [
    "import pandas as pd\n",
    "from sklearn import metrics\n",
    "from matplotlib import pyplot as plt\n",
    "from seaborn import heatmap"
   ]
  },
  {
   "cell_type": "code",
   "execution_count": 2,
   "id": "78fe72ea",
   "metadata": {},
   "outputs": [
    {
     "data": {
      "text/plain": [
       "((99, 1), (99, 1))"
      ]
     },
     "execution_count": 2,
     "metadata": {},
     "output_type": "execute_result"
    }
   ],
   "source": [
    "# dataset path in docker\n",
    "# actual_ds_path = 'myvolume/subject/data04/truth.txt'\n",
    "# predicted_ds_path = 'myvolume/subject/data04/predictions.txt'\n",
    "\n",
    "# dataset path in local\n",
    "actual_ds_path = '../../subject/data04/truth.txt'\n",
    "predicted_ds_path = '../../subject/data04/predictions.txt'\n",
    "\n",
    "actual_df = pd.read_csv(actual_ds_path)\n",
    "predicted_df = pd.read_csv(predicted_ds_path)\n",
    "\n",
    "actual_df.shape, predicted_df.shape"
   ]
  },
  {
   "cell_type": "code",
   "execution_count": 3,
   "id": "b14bb00d",
   "metadata": {},
   "outputs": [
    {
     "data": {
      "text/html": [
       "<div>\n",
       "<style scoped>\n",
       "    .dataframe tbody tr th:only-of-type {\n",
       "        vertical-align: middle;\n",
       "    }\n",
       "\n",
       "    .dataframe tbody tr th {\n",
       "        vertical-align: top;\n",
       "    }\n",
       "\n",
       "    .dataframe thead th {\n",
       "        text-align: right;\n",
       "    }\n",
       "</style>\n",
       "<table border=\"1\" class=\"dataframe\">\n",
       "  <thead>\n",
       "    <tr style=\"text-align: right;\">\n",
       "      <th></th>\n",
       "      <th>actual</th>\n",
       "    </tr>\n",
       "  </thead>\n",
       "  <tbody>\n",
       "    <tr>\n",
       "      <th>0</th>\n",
       "      <td>Jedi</td>\n",
       "    </tr>\n",
       "    <tr>\n",
       "      <th>1</th>\n",
       "      <td>Sith</td>\n",
       "    </tr>\n",
       "    <tr>\n",
       "      <th>2</th>\n",
       "      <td>Sith</td>\n",
       "    </tr>\n",
       "    <tr>\n",
       "      <th>3</th>\n",
       "      <td>Jedi</td>\n",
       "    </tr>\n",
       "    <tr>\n",
       "      <th>4</th>\n",
       "      <td>Sith</td>\n",
       "    </tr>\n",
       "    <tr>\n",
       "      <th>...</th>\n",
       "      <td>...</td>\n",
       "    </tr>\n",
       "    <tr>\n",
       "      <th>94</th>\n",
       "      <td>Sith</td>\n",
       "    </tr>\n",
       "    <tr>\n",
       "      <th>95</th>\n",
       "      <td>Sith</td>\n",
       "    </tr>\n",
       "    <tr>\n",
       "      <th>96</th>\n",
       "      <td>Sith</td>\n",
       "    </tr>\n",
       "    <tr>\n",
       "      <th>97</th>\n",
       "      <td>Jedi</td>\n",
       "    </tr>\n",
       "    <tr>\n",
       "      <th>98</th>\n",
       "      <td>Sith</td>\n",
       "    </tr>\n",
       "  </tbody>\n",
       "</table>\n",
       "<p>99 rows × 1 columns</p>\n",
       "</div>"
      ],
      "text/plain": [
       "   actual\n",
       "0    Jedi\n",
       "1    Sith\n",
       "2    Sith\n",
       "3    Jedi\n",
       "4    Sith\n",
       "..    ...\n",
       "94   Sith\n",
       "95   Sith\n",
       "96   Sith\n",
       "97   Jedi\n",
       "98   Sith\n",
       "\n",
       "[99 rows x 1 columns]"
      ]
     },
     "execution_count": 3,
     "metadata": {},
     "output_type": "execute_result"
    }
   ],
   "source": [
    "actual_df.columns = ['actual']\n",
    "actual_df"
   ]
  },
  {
   "cell_type": "code",
   "execution_count": 4,
   "id": "70b4dd27",
   "metadata": {},
   "outputs": [
    {
     "data": {
      "text/html": [
       "<div>\n",
       "<style scoped>\n",
       "    .dataframe tbody tr th:only-of-type {\n",
       "        vertical-align: middle;\n",
       "    }\n",
       "\n",
       "    .dataframe tbody tr th {\n",
       "        vertical-align: top;\n",
       "    }\n",
       "\n",
       "    .dataframe thead th {\n",
       "        text-align: right;\n",
       "    }\n",
       "</style>\n",
       "<table border=\"1\" class=\"dataframe\">\n",
       "  <thead>\n",
       "    <tr style=\"text-align: right;\">\n",
       "      <th></th>\n",
       "      <th>predicted</th>\n",
       "    </tr>\n",
       "  </thead>\n",
       "  <tbody>\n",
       "    <tr>\n",
       "      <th>0</th>\n",
       "      <td>Sith</td>\n",
       "    </tr>\n",
       "    <tr>\n",
       "      <th>1</th>\n",
       "      <td>Jedi</td>\n",
       "    </tr>\n",
       "    <tr>\n",
       "      <th>2</th>\n",
       "      <td>Sith</td>\n",
       "    </tr>\n",
       "    <tr>\n",
       "      <th>3</th>\n",
       "      <td>Jedi</td>\n",
       "    </tr>\n",
       "    <tr>\n",
       "      <th>4</th>\n",
       "      <td>Jedi</td>\n",
       "    </tr>\n",
       "    <tr>\n",
       "      <th>...</th>\n",
       "      <td>...</td>\n",
       "    </tr>\n",
       "    <tr>\n",
       "      <th>94</th>\n",
       "      <td>Sith</td>\n",
       "    </tr>\n",
       "    <tr>\n",
       "      <th>95</th>\n",
       "      <td>Jedi</td>\n",
       "    </tr>\n",
       "    <tr>\n",
       "      <th>96</th>\n",
       "      <td>Jedi</td>\n",
       "    </tr>\n",
       "    <tr>\n",
       "      <th>97</th>\n",
       "      <td>Sith</td>\n",
       "    </tr>\n",
       "    <tr>\n",
       "      <th>98</th>\n",
       "      <td>Jedi</td>\n",
       "    </tr>\n",
       "  </tbody>\n",
       "</table>\n",
       "<p>99 rows × 1 columns</p>\n",
       "</div>"
      ],
      "text/plain": [
       "   predicted\n",
       "0       Sith\n",
       "1       Jedi\n",
       "2       Sith\n",
       "3       Jedi\n",
       "4       Jedi\n",
       "..       ...\n",
       "94      Sith\n",
       "95      Jedi\n",
       "96      Jedi\n",
       "97      Sith\n",
       "98      Jedi\n",
       "\n",
       "[99 rows x 1 columns]"
      ]
     },
     "execution_count": 4,
     "metadata": {},
     "output_type": "execute_result"
    }
   ],
   "source": [
    "predicted_df.columns = ['predicted']\n",
    "predicted_df"
   ]
  },
  {
   "cell_type": "markdown",
   "id": "7f954a4d",
   "metadata": {},
   "source": [
    "## calculations confusion metrix"
   ]
  },
  {
   "cell_type": "code",
   "execution_count": 5,
   "id": "bff1e889",
   "metadata": {},
   "outputs": [
    {
     "name": "stdout",
     "output_type": "stream",
     "text": [
      "[[25 23]\n",
      " [30 21]]\n",
      "['Jedi' 'Sith']\n",
      "{'Jedi': 0, 'Sith': 1}\n"
     ]
    }
   ],
   "source": [
    "import numpy as np\n",
    "\n",
    "def custom_confusion_matrix(actual, predicted):\n",
    "    # Step 1: Get all unique categories and sort for consistent order\n",
    "    categories = np.unique(np.concatenate((actual, predicted)))\n",
    "    n_classes = len(categories)\n",
    "\n",
    "    # Step 2: Create a mapping from class label to index\n",
    "    class_to_index = {label: idx for idx, label in enumerate(categories)}\n",
    "\n",
    "    # Step 3: Initialize a square matrix of zeros (n_classes x n_classes)\n",
    "    matrix = np.zeros((n_classes, n_classes), dtype=int)\n",
    "\n",
    "    # Step 4: Populate the matrix\n",
    "    for a, p in zip(actual, predicted):\n",
    "        true_idx = class_to_index[a] # Jedi = 0\n",
    "        pred_idx = class_to_index[p] # Jedi = 0\n",
    "        matrix[true_idx, pred_idx] += 1 # tn += 1 ([[tn, fp], [fn, tp]])\n",
    "\n",
    "    return matrix, categories, class_to_index\n",
    "cm, cat, cls = custom_confusion_matrix(actual_df['actual'], predicted_df['predicted'])\n",
    "print(cm)\n",
    "print(cat)\n",
    "print(cls)\n"
   ]
  },
  {
   "cell_type": "code",
   "execution_count": 6,
   "id": "faf7e522",
   "metadata": {},
   "outputs": [
    {
     "data": {
      "text/plain": [
       "array([[25, 23],\n",
       "       [30, 21]])"
      ]
     },
     "execution_count": 6,
     "metadata": {},
     "output_type": "execute_result"
    }
   ],
   "source": [
    "# cm is a confusion matrix\n",
    "# tn, fp, fn, tp\n",
    "cm = metrics.confusion_matrix(actual_df, predicted_df)\n",
    "cm"
   ]
  },
  {
   "cell_type": "code",
   "execution_count": 7,
   "id": "1a7e5af3",
   "metadata": {},
   "outputs": [
    {
     "name": "stdout",
     "output_type": "stream",
     "text": [
      "              precision    recall  f1-score   support\n",
      "\n",
      "        Jedi       0.45      0.52      0.49        48\n",
      "        Sith       0.48      0.41      0.44        51\n",
      "\n",
      "    accuracy                           0.46        99\n",
      "   macro avg       0.47      0.47      0.46        99\n",
      "weighted avg       0.47      0.46      0.46        99\n",
      "\n"
     ]
    }
   ],
   "source": [
    "print(metrics.classification_report(actual_df, predicted_df))"
   ]
  },
  {
   "cell_type": "code",
   "execution_count": 8,
   "id": "60411784",
   "metadata": {},
   "outputs": [
    {
     "data": {
      "image/png": "[encoded data removed]",
      "text/plain": [
       "<Figure size 640x480 with 2 Axes>"
      ]
     },
     "metadata": {},
     "output_type": "display_data"
    }
   ],
   "source": [
    "heatmap(\n",
    "    cm, \n",
    "    annot=True,\n",
    "    fmt='g', \n",
    "    xticklabels=['Jedi','Sith'],\n",
    "    yticklabels=['Jedi','Sith']\n",
    ")\n",
    "plt.ylabel('Actual', fontsize=13)\n",
    "plt.title('Confusion Matrix', fontsize=17, pad=20)\n",
    "plt.gca().xaxis.set_label_position('top') \n",
    "plt.xlabel('Prediction', fontsize=13)\n",
    "plt.gca().xaxis.tick_top()\n",
    "\n",
    "plt.gca().figure.subplots_adjust(bottom=0.2)\n",
    "plt.gca().figure.text(0.5, 0.05, 'Prediction', ha='center', fontsize=13)\n",
    "plt.show()"
   ]
  }
 ],
 "metadata": {
  "kernelspec": {
   "display_name": "ml",
   "language": "python",
   "name": "python3"
  },
  "language_info": {
   "codemirror_mode": {
    "name": "ipython",
    "version": 3
   },
   "file_extension": ".py",
   "mimetype": "text/x-python",
   "name": "python",
   "nbconvert_exporter": "python",
   "pygments_lexer": "ipython3",
   "version": "3.13.2"
  }
 },
 "nbformat": 4,
 "nbformat_minor": 5
}
